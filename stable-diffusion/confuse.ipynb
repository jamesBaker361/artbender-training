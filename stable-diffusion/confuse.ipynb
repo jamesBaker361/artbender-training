{
 "cells": [
  {
   "cell_type": "code",
   "execution_count": 2,
   "metadata": {},
   "outputs": [
    {
     "name": "stderr",
     "output_type": "stream",
     "text": [
      "2023-03-11 15:25:46.733847: W tensorflow/stream_executor/platform/default/dso_loader.cc:64] Could not load dynamic library 'libcudart.so.11.0'; dlerror: libcudart.so.11.0: cannot open shared object file: No such file or directory; LD_LIBRARY_PATH: /home/jlb638/cuda/lib64:/home/jlb638/packages/gdb/lib:/home/jlb638/packages/gcc/lib64:/home/jlb638/packages/gcc/lib:/home/jlb638/packages/gmp/5_0_2/include:/home/jlb638/packages/gmp/5_0_2/lib:/home/jlb638/texinfo/6_6/lib:/home/jlb638/gc563/python/3.9.6/lib:/home/jlb638/cuda/lib64:/home/jlb638/packages/gdb/lib:/home/jlb638/packages/gcc/lib64:/home/jlb638/packages/gcc/lib:/home/jlb638/packages/gmp/5_0_2/include:/home/jlb638/packages/gmp/5_0_2/lib:/home/jlb638/texinfo/6_6/lib:/home/jlb638/gc563/python/3.9.6/lib:\n",
      "2023-03-11 15:25:46.733947: I tensorflow/stream_executor/cuda/cudart_stub.cc:29] Ignore above cudart dlerror if you do not have a GPU set up on your machine.\n",
      "/home/jlb638/.conda/envs/cvtf/lib/python3.9/site-packages/scipy/__init__.py:146: UserWarning: A NumPy version >=1.16.5 and <1.23.0 is required for this version of SciPy (detected version 1.24.2\n",
      "  warnings.warn(f\"A NumPy version >={np_minversion} and <{np_maxversion}\"\n",
      "/home/jlb638/.conda/envs/cvtf/lib/python3.9/site-packages/tqdm/auto.py:22: TqdmWarning: IProgress not found. Please update jupyter and ipywidgets. See https://ipywidgets.readthedocs.io/en/stable/user_install.html\n",
      "  from .autonotebook import tqdm as notebook_tqdm\n"
     ]
    },
    {
     "name": "stdout",
     "output_type": "stream",
     "text": [
      "You do not have pycocotools installed, so KerasCV pycoco metrics are not available. Please run `pip install pycocotools`.\n"
     ]
    }
   ],
   "source": [
    "from textwrap import wrap\n",
    "import os\n",
    "\n",
    "import keras_cv\n",
    "import matplotlib.pyplot as plt\n",
    "import numpy as np\n",
    "import pandas as pd\n",
    "import tensorflow as tf\n",
    "import tensorflow.experimental.numpy as tnp\n",
    "from keras_cv.models.stable_diffusion.clip_tokenizer import SimpleTokenizer\n",
    "from keras_cv.models.stable_diffusion.diffusion_model import DiffusionModel\n",
    "from keras_cv.models.stable_diffusion.image_encoder import ImageEncoder\n",
    "from keras_cv.models.stable_diffusion.noise_scheduler import NoiseScheduler\n",
    "from keras_cv.models.stable_diffusion.text_encoder import TextEncoder\n",
    "from tensorflow import keras\n",
    "from datasets import load_dataset"
   ]
  },
  {
   "cell_type": "code",
   "execution_count": 3,
   "metadata": {},
   "outputs": [
    {
     "name": "stderr",
     "output_type": "stream",
     "text": [
      "Using custom data configuration jlbaker361--avatar-lite_captioned-augmented-c48aceaadc68fd73\n",
      "Found cached dataset parquet (/home/jlb638/.cache/huggingface/datasets/jlbaker361___parquet/jlbaker361--avatar-lite_captioned-augmented-c48aceaadc68fd73/0.0.0/2a3b91fbd88a2c90d1dbbb32b460cf621d31bd5b05b934492fdef7d8d6f236ec)\n"
     ]
    }
   ],
   "source": [
    "data_frame= load_dataset(\"jlbaker361/avatar-lite_captioned-augmented\",split=\"train\")"
   ]
  },
  {
   "cell_type": "code",
   "execution_count": 4,
   "metadata": {},
   "outputs": [
    {
     "name": "stderr",
     "output_type": "stream",
     "text": [
      "2023-03-11 15:27:17.003679: W tensorflow/stream_executor/platform/default/dso_loader.cc:64] Could not load dynamic library 'libcuda.so.1'; dlerror: libcuda.so.1: cannot open shared object file: No such file or directory; LD_LIBRARY_PATH: /home/jlb638/cuda/lib64:/home/jlb638/packages/gdb/lib:/home/jlb638/packages/gcc/lib64:/home/jlb638/packages/gcc/lib:/home/jlb638/packages/gmp/5_0_2/include:/home/jlb638/packages/gmp/5_0_2/lib:/home/jlb638/texinfo/6_6/lib:/home/jlb638/gc563/python/3.9.6/lib:/home/jlb638/cuda/lib64:/home/jlb638/packages/gdb/lib:/home/jlb638/packages/gcc/lib64:/home/jlb638/packages/gcc/lib:/home/jlb638/packages/gmp/5_0_2/include:/home/jlb638/packages/gmp/5_0_2/lib:/home/jlb638/texinfo/6_6/lib:/home/jlb638/gc563/python/3.9.6/lib:\n",
      "2023-03-11 15:27:17.173855: W tensorflow/stream_executor/cuda/cuda_driver.cc:269] failed call to cuInit: UNKNOWN ERROR (303)\n",
      "2023-03-11 15:27:17.173998: I tensorflow/stream_executor/cuda/cuda_diagnostics.cc:156] kernel driver does not appear to be running on this host (amarel1.amarel.rutgers.edu): /proc/driver/nvidia/version does not exist\n",
      "2023-03-11 15:27:17.185386: I tensorflow/core/platform/cpu_feature_guard.cc:193] This TensorFlow binary is optimized with oneAPI Deep Neural Network Library (oneDNN) to use the following CPU instructions in performance-critical operations:  AVX2 FMA\n",
      "To enable them in other operations, rebuild TensorFlow with the appropriate compiler flags.\n"
     ]
    }
   ],
   "source": [
    "text_encoder = TextEncoder(77)"
   ]
  },
  {
   "cell_type": "code",
   "execution_count": 5,
   "metadata": {},
   "outputs": [
    {
     "data": {
      "text/plain": [
       "'the moon in the sky'"
      ]
     },
     "execution_count": 5,
     "metadata": {},
     "output_type": "execute_result"
    }
   ],
   "source": [
    "data_frame[\"caption\"][0][0]"
   ]
  },
  {
   "cell_type": "code",
   "execution_count": 6,
   "metadata": {},
   "outputs": [
    {
     "data": {
      "image/png": "[encoded data removed]",
      "text/plain": [
       "<PIL.PngImagePlugin.PngImageFile image mode=RGB size=256x256 at 0x7F43002BE580>"
      ]
     },
     "execution_count": 6,
     "metadata": {},
     "output_type": "execute_result"
    }
   ],
   "source": [
    "data_frame[\"image\"][0]"
   ]
  },
  {
   "cell_type": "code",
   "execution_count": 8,
   "metadata": {},
   "outputs": [
    {
     "data": {
      "text/plain": [
       "2031"
      ]
     },
     "execution_count": 8,
     "metadata": {},
     "output_type": "execute_result"
    }
   ],
   "source": [
    "len(data_frame[\"image\"])"
   ]
  },
  {
   "cell_type": "code",
   "execution_count": 9,
   "metadata": {},
   "outputs": [
    {
     "data": {
      "text/plain": [
       "2031"
      ]
     },
     "execution_count": 9,
     "metadata": {},
     "output_type": "execute_result"
    }
   ],
   "source": [
    "len(data_frame[\"caption\"])"
   ]
  },
  {
   "cell_type": "code",
   "execution_count": 10,
   "metadata": {},
   "outputs": [],
   "source": [
    "MAX_PROMPT_LENGTH = 77\n",
    "PADDING_TOKEN = 49407\n",
    "tokenizer = SimpleTokenizer()\n",
    "def process_text(caption):\n",
    "    tokens = tokenizer.encode(caption[0])\n",
    "    tokens = tokens + [PADDING_TOKEN] * (MAX_PROMPT_LENGTH - len(tokens))\n",
    "    return np.array(tokens)\n",
    "tokenized_texts = np.empty((len(data_frame), MAX_PROMPT_LENGTH))\n",
    "\n",
    "all_captions = data_frame[\"caption\"]\n",
    "for i, caption in enumerate(all_captions):\n",
    "    tokenized_texts[i] = process_text(caption)"
   ]
  },
  {
   "cell_type": "code",
   "execution_count": 12,
   "metadata": {},
   "outputs": [
    {
     "data": {
      "text/plain": [
       "(2031, 77)"
      ]
     },
     "execution_count": 12,
     "metadata": {},
     "output_type": "execute_result"
    }
   ],
   "source": [
    "tokenized_texts.shape"
   ]
  },
  {
   "cell_type": "code",
   "execution_count": 15,
   "metadata": {},
   "outputs": [
    {
     "data": {
      "text/plain": [
       "array([[[[  0,   0,   0],\n",
       "         [  0,   0,   0],\n",
       "         [  0,   0,   0],\n",
       "         ...,\n",
       "         [  0,   0,   0],\n",
       "         [  0,   0,   0],\n",
       "         [  0,   0,   0]],\n",
       "\n",
       "        [[  0,   0,   0],\n",
       "         [  0,   0,   0],\n",
       "         [  0,   0,   0],\n",
       "         ...,\n",
       "         [  0,   0,   0],\n",
       "         [  0,   0,   0],\n",
       "         [  0,   0,   0]],\n",
       "\n",
       "        [[  0,   0,   0],\n",
       "         [  0,   0,   0],\n",
       "         [  0,   0,   0],\n",
       "         ...,\n",
       "         [  0,   0,   0],\n",
       "         [  0,   0,   0],\n",
       "         [  0,   0,   0]],\n",
       "\n",
       "        ...,\n",
       "\n",
       "        [[  0,   0,   0],\n",
       "         [  0,   0,   0],\n",
       "         [  0,   0,   0],\n",
       "         ...,\n",
       "         [  0,   0,   0],\n",
       "         [  0,   0,   0],\n",
       "         [  0,   0,   0]],\n",
       "\n",
       "        [[  0,   0,   0],\n",
       "         [  0,   0,   0],\n",
       "         [  0,   0,   0],\n",
       "         ...,\n",
       "         [  0,   0,   0],\n",
       "         [  0,   0,   0],\n",
       "         [  0,   0,   0]],\n",
       "\n",
       "        [[  0,   0,   0],\n",
       "         [  0,   0,   0],\n",
       "         [  0,   0,   0],\n",
       "         ...,\n",
       "         [  0,   0,   0],\n",
       "         [  0,   0,   0],\n",
       "         [  0,   0,   0]]],\n",
       "\n",
       "\n",
       "       [[[  0,   0,  39],\n",
       "         [  0,   0,  40],\n",
       "         [  0,   0,  40],\n",
       "         ...,\n",
       "         [  0,   0,  42],\n",
       "         [  0,   0,  42],\n",
       "         [  0,   0,  42]],\n",
       "\n",
       "        [[  0,   0,  39],\n",
       "         [  0,   0,  40],\n",
       "         [  0,   0,  40],\n",
       "         ...,\n",
       "         [  0,   0,  42],\n",
       "         [  0,   0,  42],\n",
       "         [  0,   0,  42]],\n",
       "\n",
       "        [[  0,   0,  41],\n",
       "         [  0,   0,  41],\n",
       "         [  0,   0,  40],\n",
       "         ...,\n",
       "         [  0,   0,  42],\n",
       "         [  0,   0,  42],\n",
       "         [  0,   0,  42]],\n",
       "\n",
       "        ...,\n",
       "\n",
       "        [[  0,   0,   0],\n",
       "         [  0,   0,   0],\n",
       "         [  0,   0,   0],\n",
       "         ...,\n",
       "         [  0,   0,   0],\n",
       "         [  0,   0,   0],\n",
       "         [  0,   0,   0]],\n",
       "\n",
       "        [[  0,   0,   0],\n",
       "         [  0,   0,   0],\n",
       "         [  0,   0,   0],\n",
       "         ...,\n",
       "         [  0,   0,   0],\n",
       "         [  0,   0,   0],\n",
       "         [  0,   0,   0]],\n",
       "\n",
       "        [[  0,   0,   0],\n",
       "         [  0,   0,   0],\n",
       "         [  0,   0,   0],\n",
       "         ...,\n",
       "         [  0,   0,   0],\n",
       "         [  0,   0,   0],\n",
       "         [  0,   0,   0]]],\n",
       "\n",
       "\n",
       "       [[[ 24,  22,  89],\n",
       "         [ 24,  22,  89],\n",
       "         [ 24,  22,  90],\n",
       "         ...,\n",
       "         [ 21,  19,  86],\n",
       "         [ 21,  19,  86],\n",
       "         [ 21,  19,  86]],\n",
       "\n",
       "        [[ 25,  23,  90],\n",
       "         [ 25,  23,  90],\n",
       "         [ 25,  23,  91],\n",
       "         ...,\n",
       "         [ 22,  19,  87],\n",
       "         [ 21,  19,  86],\n",
       "         [ 21,  19,  86]],\n",
       "\n",
       "        [[ 28,  24,  91],\n",
       "         [ 26,  24,  91],\n",
       "         [ 27,  24,  91],\n",
       "         ...,\n",
       "         [ 22,  20,  87],\n",
       "         [ 22,  20,  87],\n",
       "         [ 22,  20,  87]],\n",
       "\n",
       "        ...,\n",
       "\n",
       "        [[  8,   9,  19],\n",
       "         [  6,   8,  17],\n",
       "         [  9,   9,  20],\n",
       "         ...,\n",
       "         [ 64, 100, 148],\n",
       "         [ 66,  94, 131],\n",
       "         [ 36,  54,  84]],\n",
       "\n",
       "        [[  5,  10,  16],\n",
       "         [  5,  10,  16],\n",
       "         [  8,  12,  20],\n",
       "         ...,\n",
       "         [ 58,  96, 142],\n",
       "         [ 54,  82, 121],\n",
       "         [ 32,  49,  77]],\n",
       "\n",
       "        [[  5,  10,  16],\n",
       "         [  5,  10,  16],\n",
       "         [  8,  13,  19],\n",
       "         ...,\n",
       "         [ 56,  94, 140],\n",
       "         [ 50,  78, 118],\n",
       "         [ 31,  49,  77]]],\n",
       "\n",
       "\n",
       "       ...,\n",
       "\n",
       "\n",
       "       [[[207, 163, 130],\n",
       "         [207, 163, 130],\n",
       "         [207, 164, 129],\n",
       "         ...,\n",
       "         [206, 163, 127],\n",
       "         [206, 163, 127],\n",
       "         [207, 164, 128]],\n",
       "\n",
       "        [[207, 163, 130],\n",
       "         [206, 163, 130],\n",
       "         [206, 164, 129],\n",
       "         ...,\n",
       "         [207, 164, 129],\n",
       "         [207, 164, 129],\n",
       "         [207, 164, 128]],\n",
       "\n",
       "        [[205, 163, 130],\n",
       "         [203, 164, 130],\n",
       "         [202, 164, 130],\n",
       "         ...,\n",
       "         [207, 164, 131],\n",
       "         [207, 163, 130],\n",
       "         [206, 163, 130]],\n",
       "\n",
       "        ...,\n",
       "\n",
       "        [[205, 201, 197],\n",
       "         [205, 201, 197],\n",
       "         [205, 201, 197],\n",
       "         ...,\n",
       "         [204, 200, 197],\n",
       "         [204, 200, 196],\n",
       "         [204, 200, 196]],\n",
       "\n",
       "        [[204, 199, 198],\n",
       "         [204, 199, 198],\n",
       "         [204, 199, 198],\n",
       "         ...,\n",
       "         [204, 200, 196],\n",
       "         [204, 200, 196],\n",
       "         [204, 200, 196]],\n",
       "\n",
       "        [[204, 199, 198],\n",
       "         [204, 199, 198],\n",
       "         [204, 199, 198],\n",
       "         ...,\n",
       "         [204, 200, 196],\n",
       "         [204, 200, 196],\n",
       "         [204, 200, 196]]],\n",
       "\n",
       "\n",
       "       [[[204, 162, 129],\n",
       "         [205, 163, 130],\n",
       "         [205, 163, 130],\n",
       "         ...,\n",
       "         [205, 164, 128],\n",
       "         [205, 164, 128],\n",
       "         [205, 164, 129]],\n",
       "\n",
       "        [[204, 162, 129],\n",
       "         [205, 163, 130],\n",
       "         [205, 163, 130],\n",
       "         ...,\n",
       "         [206, 164, 129],\n",
       "         [205, 164, 128],\n",
       "         [205, 164, 129]],\n",
       "\n",
       "        [[203, 163, 131],\n",
       "         [203, 163, 131],\n",
       "         [204, 163, 131],\n",
       "         ...,\n",
       "         [205, 164, 130],\n",
       "         [204, 164, 129],\n",
       "         [204, 163, 130]],\n",
       "\n",
       "        ...,\n",
       "\n",
       "        [[204, 199, 198],\n",
       "         [205, 200, 199],\n",
       "         [205, 200, 199],\n",
       "         ...,\n",
       "         [206, 201, 200],\n",
       "         [206, 201, 200],\n",
       "         [205, 201, 197]],\n",
       "\n",
       "        [[204, 200, 196],\n",
       "         [204, 200, 196],\n",
       "         [203, 200, 197],\n",
       "         ...,\n",
       "         [205, 200, 199],\n",
       "         [205, 200, 199],\n",
       "         [205, 201, 197]],\n",
       "\n",
       "        [[204, 200, 196],\n",
       "         [204, 200, 196],\n",
       "         [203, 200, 197],\n",
       "         ...,\n",
       "         [205, 200, 199],\n",
       "         [205, 200, 199],\n",
       "         [205, 201, 197]]],\n",
       "\n",
       "\n",
       "       [[[204, 162, 129],\n",
       "         [204, 162, 129],\n",
       "         [204, 162, 129],\n",
       "         ...,\n",
       "         [209, 163, 130],\n",
       "         [209, 163, 130],\n",
       "         [207, 163, 130]],\n",
       "\n",
       "        [[205, 163, 130],\n",
       "         [205, 163, 130],\n",
       "         [205, 163, 130],\n",
       "         ...,\n",
       "         [207, 163, 131],\n",
       "         [207, 163, 131],\n",
       "         [206, 163, 131]],\n",
       "\n",
       "        [[205, 162, 131],\n",
       "         [205, 162, 131],\n",
       "         [205, 162, 131],\n",
       "         ...,\n",
       "         [204, 163, 131],\n",
       "         [203, 163, 131],\n",
       "         [206, 163, 132]],\n",
       "\n",
       "        ...,\n",
       "\n",
       "        [[205, 200, 199],\n",
       "         [205, 200, 199],\n",
       "         [204, 199, 197],\n",
       "         ...,\n",
       "         [207, 201, 199],\n",
       "         [206, 201, 199],\n",
       "         [205, 201, 197]],\n",
       "\n",
       "        [[204, 200, 196],\n",
       "         [205, 201, 197],\n",
       "         [197, 193, 190],\n",
       "         ...,\n",
       "         [205, 200, 199],\n",
       "         [206, 200, 199],\n",
       "         [204, 200, 196]],\n",
       "\n",
       "        [[204, 200, 196],\n",
       "         [205, 201, 196],\n",
       "         [193, 188, 185],\n",
       "         ...,\n",
       "         [205, 200, 199],\n",
       "         [206, 200, 199],\n",
       "         [204, 200, 196]]]], dtype=uint8)"
      ]
     },
     "execution_count": 15,
     "metadata": {},
     "output_type": "execute_result"
    }
   ],
   "source": [
    "np.array([np.array(img) for img in  data_frame[\"image\"]])"
   ]
  },
  {
   "cell_type": "code",
   "execution_count": null,
   "metadata": {},
   "outputs": [],
   "source": []
  }
 ],
 "metadata": {
  "kernelspec": {
   "display_name": "cvtf",
   "language": "python",
   "name": "python3"
  },
  "language_info": {
   "codemirror_mode": {
    "name": "ipython",
    "version": 3
   },
   "file_extension": ".py",
   "mimetype": "text/x-python",
   "name": "python",
   "nbconvert_exporter": "python",
   "pygments_lexer": "ipython3",
   "version": "3.9.7 (default, Sep 16 2021, 13:09:58) \n[GCC 7.5.0]"
  },
  "orig_nbformat": 4,
  "vscode": {
   "interpreter": {
    "hash": "4e9f74c9a83faa9a28077456a45a748f5fb1d35fce40051360eebcbf390c565d"
   }
  }
 },
 "nbformat": 4,
 "nbformat_minor": 2
}
